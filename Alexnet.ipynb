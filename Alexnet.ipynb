{
  "cells": [
    {
      "cell_type": "code",
      "source": [
        "import os\n",
        "from glob import glob\n",
        "import matplotlib.pyplot as plt\n",
        "import tensorflow as tf\n",
        "import random\n",
        "import cv2\n",
        "import pandas as pd\n",
        "import numpy as np\n",
        "import seaborn as sns\n",
        "from skimage.transform import resize\n",
        "import csv\n",
        "from tqdm import tqdm\n",
        "from sklearn.model_selection import train_test_split, KFold, StratifiedKFold\n",
        "from sklearn.metrics import confusion_matrix\n",
        "import keras\n",
        "from keras.utils import to_categorical\n",
        "from keras.preprocessing.image import ImageDataGenerator\n",
        "from keras.models import Sequential\n",
        "from keras.layers import Activation, Dense, Dropout, Flatten\n",
        "\n",
        "# Other imports\n",
        "import datetime\n",
        "import scipy\n",
        "import itertools\n",
        "\n",
        "# Ensure that warnings are not shown\n",
        "import warnings\n",
        "warnings.filterwarnings(\"ignore\")\n",
        "\n",
        "# Your code here...\n"
      ],
      "metadata": {
        "id": "W1v1z8ZDZU0E"
      },
      "execution_count": 2,
      "outputs": []
    },
    {
      "cell_type": "code",
      "execution_count": 3,
      "metadata": {
        "id": "6XFq4c_U1Ek1",
        "colab": {
          "base_uri": "https://localhost:8080/"
        },
        "outputId": "e3bf7e14-f0c7-4dd4-8e73-55b374905a70"
      },
      "outputs": [
        {
          "output_type": "stream",
          "name": "stdout",
          "text": [
            "Mounted at /content/drive\n"
          ]
        }
      ],
      "source": [
        "from google.colab import drive\n",
        "drive.mount('/content/drive')"
      ]
    },
    {
      "cell_type": "code",
      "execution_count": 6,
      "metadata": {
        "colab": {
          "base_uri": "https://localhost:8080/"
        },
        "id": "YJgDzS6jcS3_",
        "outputId": "c1861212-0465-47d0-b367-f5adbfb5cdba"
      },
      "outputs": [
        {
          "output_type": "stream",
          "name": "stderr",
          "text": [
            "100%|██████████| 513/513 [00:08<00:00, 62.66it/s] \n",
            "100%|██████████| 512/512 [00:08<00:00, 60.66it/s] \n",
            "100%|██████████| 101/101 [00:01<00:00, 55.96it/s]\n",
            "100%|██████████| 100/100 [00:01<00:00, 63.91it/s]\n"
          ]
        }
      ],
      "source": [
        "from skimage.io import imread\n",
        "from skimage.transform import resize\n",
        "imageSize=128\n",
        "train_dir = \"/content/drive/MyDrive/Foot_Ulcer/Train\"\n",
        "test_dir =  \"/content/drive/MyDrive/Foot_Ulcer/Test\"\n",
        "# ['Covid19', 'Normal', 'Opacity', 'Pneumonia']\n",
        "from tqdm import tqdm\n",
        "def get_data(folder):\n",
        "    \"\"\"\n",
        "    Load the data and labels from the given folder.\n",
        "    \"\"\"\n",
        "    X = []\n",
        "    y = []\n",
        "    for folderName in os.listdir(folder):\n",
        "        if not folderName.startswith('.'):\n",
        "\n",
        "            if folderName in ['MAL']:\n",
        "                label = 0\n",
        "            elif folderName in ['BEN']:\n",
        "                label = 1\n",
        "                '''\n",
        "            elif folderName in ['Opacity']:\n",
        "                label = 2\n",
        "            elif folderName in ['pneumonia']:\n",
        "                label = 3\n",
        "                '''\n",
        "            else:\n",
        "                label = 4\n",
        "\n",
        "            for image_filename in tqdm(os.listdir(folder + '/'+folderName)):\n",
        "\n",
        "\n",
        "                img_file = cv2.imread(folder + '/'+folderName + '/' + image_filename)\n",
        "                if img_file is not None:\n",
        "                    img_file = resize(img_file, (imageSize, imageSize, 3))\n",
        "                    img_arr = np.asarray(img_file)\n",
        "\n",
        "                    X.append(img_arr)\n",
        "                    y.append(label)\n",
        "    X = np.asarray(X)\n",
        "    y = np.asarray(y)\n",
        "\n",
        "    return X,y\n",
        "X_train, y_train = get_data(train_dir) # Un-comment to use full dataset: Step 1 of 2\n",
        "X_test, y_test= get_data(test_dir)\n"
      ]
    },
    {
      "cell_type": "code",
      "execution_count": 7,
      "metadata": {
        "id": "1hCShZHwcWRb"
      },
      "outputs": [],
      "source": [
        "# AlexNet model\n",
        "class AlexNet(Sequential):\n",
        "    def __init__(self, input_shape, num_classes):\n",
        "        super().__init__()\n",
        "\n",
        "        self.add(Conv2D(96, kernel_size=(11,11), strides= 4,\n",
        "                        padding= 'valid', activation= 'relu',\n",
        "                        input_shape= input_shape,\n",
        "                        kernel_initializer= 'he_normal'))\n",
        "        self.add(MaxPooling2D(pool_size=(3,3), strides= (2,2),\n",
        "                              padding= 'valid', data_format= None))\n",
        "\n",
        "        self.add(Conv2D(256, kernel_size=(5,5), strides= 1,\n",
        "                        padding= 'same', activation= 'relu',\n",
        "                        kernel_initializer= 'he_normal'))\n",
        "        self.add(MaxPooling2D(pool_size=(3,3), strides= (2,2),\n",
        "                              padding= 'valid', data_format= None))\n",
        "\n",
        "        self.add(Conv2D(384, kernel_size=(3,3), strides= 1,\n",
        "                        padding= 'same', activation= 'relu',\n",
        "                        kernel_initializer= 'he_normal'))\n",
        "\n",
        "        self.add(Conv2D(384, kernel_size=(3,3), strides= 1,\n",
        "                        padding= 'same', activation= 'relu',\n",
        "                        kernel_initializer= 'he_normal'))\n",
        "\n",
        "        self.add(Conv2D(256, kernel_size=(3,3), strides= 1,\n",
        "                        padding= 'same', activation= 'relu',\n",
        "                        kernel_initializer= 'he_normal'))\n",
        "\n",
        "        self.add(MaxPooling2D(pool_size=(3,3), strides= (2,2),\n",
        "                              padding= 'valid', data_format= None))\n",
        "\n",
        "        self.add(Flatten())\n",
        "        self.add(Dense(4096, activation= 'relu'))\n",
        "        self.add(Dense(4096, activation= 'relu'))\n",
        "        self.add(Dense(1000, activation= 'relu'))\n",
        "        self.add(Dense(num_classes, activation= 'softmax'))\n",
        "\n",
        "        self.compile(optimizer= tf.keras.optimizers.Adam(0.001),\n",
        "                    loss='categorical_crossentropy',\n",
        "                    metrics=['accuracy'])"
      ]
    },
    {
      "cell_type": "code",
      "execution_count": 13,
      "metadata": {
        "id": "Dp1TbG4ccuqp"
      },
      "outputs": [],
      "source": [
        "from tensorflow.keras.layers import Conv2D,MaxPooling2D\n",
        "num_classes = 2\n",
        "model = AlexNet((imageSize, imageSize, 3), num_classes)"
      ]
    },
    {
      "cell_type": "code",
      "execution_count": 14,
      "metadata": {
        "id": "eh-bgS6LoiGm"
      },
      "outputs": [],
      "source": [
        "METRICS = [\n",
        "      keras.metrics.TruePositives(name='tp'),\n",
        "      keras.metrics.FalsePositives(name='fp'),\n",
        "      keras.metrics.TrueNegatives(name='tn'),\n",
        "      keras.metrics.FalseNegatives(name='fn'),\n",
        "      keras.metrics.BinaryAccuracy(name='accuracy'),\n",
        "      keras.metrics.Precision(name='precision'),\n",
        "      keras.metrics.Recall(name='recall'),\n",
        "      keras.metrics.AUC(name='auc'),\n",
        "]"
      ]
    },
    {
      "cell_type": "code",
      "execution_count": 15,
      "metadata": {
        "colab": {
          "base_uri": "https://localhost:8080/"
        },
        "id": "zFRxiTuudBIT",
        "outputId": "63c89078-7cc1-4a3b-9c80-3a617abdc251"
      },
      "outputs": [
        {
          "output_type": "stream",
          "name": "stdout",
          "text": [
            "Model: \"alex_net_4\"\n",
            "_________________________________________________________________\n",
            " Layer (type)                Output Shape              Param #   \n",
            "=================================================================\n",
            " conv2d_1 (Conv2D)           (None, 30, 30, 96)        34944     \n",
            "                                                                 \n",
            " max_pooling2d (MaxPooling2  (None, 14, 14, 96)        0         \n",
            " D)                                                              \n",
            "                                                                 \n",
            " conv2d_2 (Conv2D)           (None, 14, 14, 256)       614656    \n",
            "                                                                 \n",
            " max_pooling2d_1 (MaxPoolin  (None, 6, 6, 256)         0         \n",
            " g2D)                                                            \n",
            "                                                                 \n",
            " conv2d_3 (Conv2D)           (None, 6, 6, 384)         885120    \n",
            "                                                                 \n",
            " conv2d_4 (Conv2D)           (None, 6, 6, 384)         1327488   \n",
            "                                                                 \n",
            " conv2d_5 (Conv2D)           (None, 6, 6, 256)         884992    \n",
            "                                                                 \n",
            " max_pooling2d_2 (MaxPoolin  (None, 2, 2, 256)         0         \n",
            " g2D)                                                            \n",
            "                                                                 \n",
            " flatten (Flatten)           (None, 1024)              0         \n",
            "                                                                 \n",
            " dense (Dense)               (None, 4096)              4198400   \n",
            "                                                                 \n",
            " dense_1 (Dense)             (None, 4096)              16781312  \n",
            "                                                                 \n",
            " dense_2 (Dense)             (None, 1000)              4097000   \n",
            "                                                                 \n",
            " dense_3 (Dense)             (None, 2)                 2002      \n",
            "                                                                 \n",
            "=================================================================\n",
            "Total params: 28825914 (109.96 MB)\n",
            "Trainable params: 28825914 (109.96 MB)\n",
            "Non-trainable params: 0 (0.00 Byte)\n",
            "_________________________________________________________________\n"
          ]
        }
      ],
      "source": [
        "model.compile(loss='categorical_crossentropy',\n",
        "                  optimizer='adam',\n",
        "                  metrics=METRICS)\n",
        "model.summary()"
      ]
    },
    {
      "cell_type": "code",
      "execution_count": 16,
      "metadata": {
        "colab": {
          "base_uri": "https://localhost:8080/"
        },
        "id": "mvZom0WYdRIN",
        "outputId": "3ace8cd5-9d62-48da-8a1e-842c08c5fd8a"
      },
      "outputs": [
        {
          "output_type": "stream",
          "name": "stdout",
          "text": [
            "Found 1024 images belonging to 2 classes.\n",
            "Found 200 images belonging to 2 classes.\n"
          ]
        }
      ],
      "source": [
        "from keras.preprocessing.image import ImageDataGenerator\n",
        "\n",
        "train_datagen = ImageDataGenerator(rescale = 1./255,\n",
        "                                   shear_range = 0.2,\n",
        "                                   zoom_range = 0.2,\n",
        "                                   horizontal_flip = True)\n",
        "\n",
        "test_datagen = ImageDataGenerator(rescale = 1./255)\n",
        "\n",
        "\n",
        "training_set = train_datagen.flow_from_directory(\"/content/drive/MyDrive/Foot_Ulcer/Train\",\n",
        "                                                 target_size = (imageSize, imageSize),\n",
        "                                                 batch_size = 16,\n",
        "                                                 class_mode = 'categorical')\n",
        "\n",
        "test_set = test_datagen.flow_from_directory(\"/content/drive/MyDrive/Foot_Ulcer/Test\",\n",
        "                                            target_size = (imageSize, imageSize),\n",
        "                                            batch_size =8,\n",
        "                                            class_mode = 'categorical')"
      ]
    },
    {
      "cell_type": "code",
      "execution_count": 19,
      "metadata": {
        "id": "GEMN_trNoXPT"
      },
      "outputs": [],
      "source": [
        "epochs=25"
      ]
    },
    {
      "cell_type": "code",
      "execution_count": 20,
      "metadata": {
        "colab": {
          "base_uri": "https://localhost:8080/"
        },
        "id": "BOs7GNAfdXj2",
        "outputId": "b211f540-f375-4ae4-9e59-fe7f7816c9c0"
      },
      "outputs": [
        {
          "output_type": "stream",
          "name": "stdout",
          "text": [
            "Epoch 1/25\n",
            "64/64 [==============================] - 9s 133ms/step - loss: 0.6698 - tp: 605.0000 - fp: 419.0000 - tn: 605.0000 - fn: 419.0000 - accuracy: 0.5908 - precision: 0.5908 - recall: 0.5908 - auc: 0.6449 - val_loss: 0.6954 - val_tp: 100.0000 - val_fp: 100.0000 - val_tn: 100.0000 - val_fn: 100.0000 - val_accuracy: 0.5000 - val_precision: 0.5000 - val_recall: 0.5000 - val_auc: 0.5512\n",
            "Epoch 2/25\n",
            "64/64 [==============================] - 8s 117ms/step - loss: 0.7232 - tp: 704.0000 - fp: 320.0000 - tn: 704.0000 - fn: 320.0000 - accuracy: 0.6875 - precision: 0.6875 - recall: 0.6875 - auc: 0.7667 - val_loss: 0.4462 - val_tp: 156.0000 - val_fp: 44.0000 - val_tn: 156.0000 - val_fn: 44.0000 - val_accuracy: 0.7800 - val_precision: 0.7800 - val_recall: 0.7800 - val_auc: 0.8735\n",
            "Epoch 3/25\n",
            "64/64 [==============================] - 10s 155ms/step - loss: 0.8133 - tp: 577.0000 - fp: 447.0000 - tn: 577.0000 - fn: 447.0000 - accuracy: 0.5635 - precision: 0.5635 - recall: 0.5635 - auc: 0.6045 - val_loss: 0.6944 - val_tp: 100.0000 - val_fp: 100.0000 - val_tn: 100.0000 - val_fn: 100.0000 - val_accuracy: 0.5000 - val_precision: 0.5000 - val_recall: 0.5000 - val_auc: 0.5700\n",
            "Epoch 4/25\n",
            "64/64 [==============================] - 10s 147ms/step - loss: 0.6974 - tp: 526.0000 - fp: 498.0000 - tn: 526.0000 - fn: 498.0000 - accuracy: 0.5137 - precision: 0.5137 - recall: 0.5137 - auc: 0.5200 - val_loss: 0.7075 - val_tp: 100.0000 - val_fp: 100.0000 - val_tn: 100.0000 - val_fn: 100.0000 - val_accuracy: 0.5000 - val_precision: 0.5000 - val_recall: 0.5000 - val_auc: 0.3233\n",
            "Epoch 5/25\n",
            "64/64 [==============================] - 9s 146ms/step - loss: 0.6699 - tp: 586.0000 - fp: 438.0000 - tn: 586.0000 - fn: 438.0000 - accuracy: 0.5723 - precision: 0.5723 - recall: 0.5723 - auc: 0.6049 - val_loss: 0.6779 - val_tp: 107.0000 - val_fp: 93.0000 - val_tn: 107.0000 - val_fn: 93.0000 - val_accuracy: 0.5350 - val_precision: 0.5350 - val_recall: 0.5350 - val_auc: 0.5822\n",
            "Epoch 6/25\n",
            "64/64 [==============================] - 7s 110ms/step - loss: 0.7061 - tp: 548.0000 - fp: 476.0000 - tn: 548.0000 - fn: 476.0000 - accuracy: 0.5352 - precision: 0.5352 - recall: 0.5352 - auc: 0.5605 - val_loss: 0.6908 - val_tp: 100.0000 - val_fp: 100.0000 - val_tn: 100.0000 - val_fn: 100.0000 - val_accuracy: 0.5000 - val_precision: 0.5000 - val_recall: 0.5000 - val_auc: 0.5766\n",
            "Epoch 7/25\n",
            "64/64 [==============================] - 9s 135ms/step - loss: 0.7205 - tp: 533.0000 - fp: 491.0000 - tn: 533.0000 - fn: 491.0000 - accuracy: 0.5205 - precision: 0.5205 - recall: 0.5205 - auc: 0.5214 - val_loss: 0.6994 - val_tp: 100.0000 - val_fp: 100.0000 - val_tn: 100.0000 - val_fn: 100.0000 - val_accuracy: 0.5000 - val_precision: 0.5000 - val_recall: 0.5000 - val_auc: 0.4518\n",
            "Epoch 8/25\n",
            "64/64 [==============================] - 8s 130ms/step - loss: 0.7059 - tp: 510.0000 - fp: 514.0000 - tn: 510.0000 - fn: 514.0000 - accuracy: 0.4980 - precision: 0.4980 - recall: 0.4980 - auc: 0.5035 - val_loss: 0.6911 - val_tp: 100.0000 - val_fp: 100.0000 - val_tn: 100.0000 - val_fn: 100.0000 - val_accuracy: 0.5000 - val_precision: 0.5000 - val_recall: 0.5000 - val_auc: 0.5760\n",
            "Epoch 9/25\n",
            "64/64 [==============================] - 7s 110ms/step - loss: 0.6969 - tp: 503.0000 - fp: 521.0000 - tn: 503.0000 - fn: 521.0000 - accuracy: 0.4912 - precision: 0.4912 - recall: 0.4912 - auc: 0.4832 - val_loss: 0.6929 - val_tp: 100.0000 - val_fp: 100.0000 - val_tn: 100.0000 - val_fn: 100.0000 - val_accuracy: 0.5000 - val_precision: 0.5000 - val_recall: 0.5000 - val_auc: 0.5825\n",
            "Epoch 10/25\n",
            "64/64 [==============================] - 9s 146ms/step - loss: 0.6955 - tp: 514.0000 - fp: 510.0000 - tn: 514.0000 - fn: 510.0000 - accuracy: 0.5020 - precision: 0.5020 - recall: 0.5020 - auc: 0.4950 - val_loss: 0.6934 - val_tp: 100.0000 - val_fp: 100.0000 - val_tn: 100.0000 - val_fn: 100.0000 - val_accuracy: 0.5000 - val_precision: 0.5000 - val_recall: 0.5000 - val_auc: 0.5325\n",
            "Epoch 11/25\n",
            "64/64 [==============================] - 7s 112ms/step - loss: 0.6935 - tp: 501.0000 - fp: 523.0000 - tn: 501.0000 - fn: 523.0000 - accuracy: 0.4893 - precision: 0.4893 - recall: 0.4893 - auc: 0.4950 - val_loss: 0.6921 - val_tp: 100.0000 - val_fp: 100.0000 - val_tn: 100.0000 - val_fn: 100.0000 - val_accuracy: 0.5000 - val_precision: 0.5000 - val_recall: 0.5000 - val_auc: 0.5770\n",
            "Epoch 12/25\n",
            "64/64 [==============================] - 9s 147ms/step - loss: 0.6957 - tp: 500.0000 - fp: 524.0000 - tn: 500.0000 - fn: 524.0000 - accuracy: 0.4883 - precision: 0.4883 - recall: 0.4883 - auc: 0.4868 - val_loss: 0.6963 - val_tp: 100.0000 - val_fp: 100.0000 - val_tn: 100.0000 - val_fn: 100.0000 - val_accuracy: 0.5000 - val_precision: 0.5000 - val_recall: 0.5000 - val_auc: 0.5833\n",
            "Epoch 13/25\n",
            "64/64 [==============================] - 7s 112ms/step - loss: 0.6967 - tp: 508.0000 - fp: 516.0000 - tn: 508.0000 - fn: 516.0000 - accuracy: 0.4961 - precision: 0.4961 - recall: 0.4961 - auc: 0.4925 - val_loss: 0.6915 - val_tp: 100.0000 - val_fp: 100.0000 - val_tn: 100.0000 - val_fn: 100.0000 - val_accuracy: 0.5000 - val_precision: 0.5000 - val_recall: 0.5000 - val_auc: 0.6020\n",
            "Epoch 14/25\n",
            "64/64 [==============================] - 9s 146ms/step - loss: 0.6954 - tp: 499.0000 - fp: 525.0000 - tn: 499.0000 - fn: 525.0000 - accuracy: 0.4873 - precision: 0.4873 - recall: 0.4873 - auc: 0.4798 - val_loss: 0.6937 - val_tp: 100.0000 - val_fp: 100.0000 - val_tn: 100.0000 - val_fn: 100.0000 - val_accuracy: 0.5000 - val_precision: 0.5000 - val_recall: 0.5000 - val_auc: 0.5000\n",
            "Epoch 15/25\n",
            "64/64 [==============================] - 7s 110ms/step - loss: 0.6938 - tp: 511.0000 - fp: 513.0000 - tn: 511.0000 - fn: 513.0000 - accuracy: 0.4990 - precision: 0.4990 - recall: 0.4990 - auc: 0.4924 - val_loss: 0.6920 - val_tp: 101.0000 - val_fp: 99.0000 - val_tn: 101.0000 - val_fn: 99.0000 - val_accuracy: 0.5050 - val_precision: 0.5050 - val_recall: 0.5050 - val_auc: 0.5536\n",
            "Epoch 16/25\n",
            "64/64 [==============================] - 9s 133ms/step - loss: 0.6882 - tp: 506.0000 - fp: 518.0000 - tn: 506.0000 - fn: 518.0000 - accuracy: 0.4941 - precision: 0.4941 - recall: 0.4941 - auc: 0.4863 - val_loss: 0.6915 - val_tp: 101.0000 - val_fp: 99.0000 - val_tn: 101.0000 - val_fn: 99.0000 - val_accuracy: 0.5050 - val_precision: 0.5050 - val_recall: 0.5050 - val_auc: 0.5574\n",
            "Epoch 17/25\n",
            "64/64 [==============================] - 12s 181ms/step - loss: 0.6985 - tp: 560.0000 - fp: 464.0000 - tn: 560.0000 - fn: 464.0000 - accuracy: 0.5469 - precision: 0.5469 - recall: 0.5469 - auc: 0.5536 - val_loss: 0.6911 - val_tp: 100.0000 - val_fp: 100.0000 - val_tn: 100.0000 - val_fn: 100.0000 - val_accuracy: 0.5000 - val_precision: 0.5000 - val_recall: 0.5000 - val_auc: 0.5820\n",
            "Epoch 18/25\n",
            "64/64 [==============================] - 9s 145ms/step - loss: 0.6956 - tp: 522.0000 - fp: 502.0000 - tn: 522.0000 - fn: 502.0000 - accuracy: 0.5098 - precision: 0.5098 - recall: 0.5098 - auc: 0.4916 - val_loss: 0.6934 - val_tp: 100.0000 - val_fp: 100.0000 - val_tn: 100.0000 - val_fn: 100.0000 - val_accuracy: 0.5000 - val_precision: 0.5000 - val_recall: 0.5000 - val_auc: 0.5000\n",
            "Epoch 19/25\n",
            "64/64 [==============================] - 7s 110ms/step - loss: 0.6934 - tp: 525.0000 - fp: 499.0000 - tn: 525.0000 - fn: 499.0000 - accuracy: 0.5127 - precision: 0.5127 - recall: 0.5127 - auc: 0.5042 - val_loss: 0.6942 - val_tp: 100.0000 - val_fp: 100.0000 - val_tn: 100.0000 - val_fn: 100.0000 - val_accuracy: 0.5000 - val_precision: 0.5000 - val_recall: 0.5000 - val_auc: 0.4300\n",
            "Epoch 20/25\n",
            "64/64 [==============================] - 9s 147ms/step - loss: 0.6945 - tp: 502.0000 - fp: 522.0000 - tn: 502.0000 - fn: 522.0000 - accuracy: 0.4902 - precision: 0.4902 - recall: 0.4902 - auc: 0.4804 - val_loss: 0.6930 - val_tp: 100.0000 - val_fp: 100.0000 - val_tn: 100.0000 - val_fn: 100.0000 - val_accuracy: 0.5000 - val_precision: 0.5000 - val_recall: 0.5000 - val_auc: 0.5000\n",
            "Epoch 21/25\n",
            "64/64 [==============================] - 7s 111ms/step - loss: 0.6937 - tp: 509.0000 - fp: 515.0000 - tn: 509.0000 - fn: 515.0000 - accuracy: 0.4971 - precision: 0.4971 - recall: 0.4971 - auc: 0.4998 - val_loss: 0.6931 - val_tp: 100.0000 - val_fp: 100.0000 - val_tn: 100.0000 - val_fn: 100.0000 - val_accuracy: 0.5000 - val_precision: 0.5000 - val_recall: 0.5000 - val_auc: 0.5675\n",
            "Epoch 22/25\n",
            "64/64 [==============================] - 8s 129ms/step - loss: 0.6933 - tp: 512.0000 - fp: 512.0000 - tn: 512.0000 - fn: 512.0000 - accuracy: 0.5000 - precision: 0.5000 - recall: 0.5000 - auc: 0.4975 - val_loss: 0.6929 - val_tp: 100.0000 - val_fp: 100.0000 - val_tn: 100.0000 - val_fn: 100.0000 - val_accuracy: 0.5000 - val_precision: 0.5000 - val_recall: 0.5000 - val_auc: 0.5000\n",
            "Epoch 23/25\n",
            "64/64 [==============================] - 8s 131ms/step - loss: 0.6932 - tp: 522.0000 - fp: 502.0000 - tn: 522.0000 - fn: 502.0000 - accuracy: 0.5098 - precision: 0.5098 - recall: 0.5098 - auc: 0.5101 - val_loss: 0.6921 - val_tp: 123.0000 - val_fp: 77.0000 - val_tn: 123.0000 - val_fn: 77.0000 - val_accuracy: 0.6150 - val_precision: 0.6150 - val_recall: 0.6150 - val_auc: 0.5700\n",
            "Epoch 24/25\n",
            "64/64 [==============================] - 8s 128ms/step - loss: 0.6939 - tp: 511.0000 - fp: 513.0000 - tn: 511.0000 - fn: 513.0000 - accuracy: 0.4990 - precision: 0.4990 - recall: 0.4990 - auc: 0.4903 - val_loss: 0.6933 - val_tp: 100.0000 - val_fp: 100.0000 - val_tn: 100.0000 - val_fn: 100.0000 - val_accuracy: 0.5000 - val_precision: 0.5000 - val_recall: 0.5000 - val_auc: 0.5000\n",
            "Epoch 25/25\n",
            "64/64 [==============================] - 9s 135ms/step - loss: 0.6934 - tp: 512.0000 - fp: 512.0000 - tn: 512.0000 - fn: 512.0000 - accuracy: 0.5000 - precision: 0.5000 - recall: 0.5000 - auc: 0.4902 - val_loss: 0.6932 - val_tp: 100.0000 - val_fp: 100.0000 - val_tn: 100.0000 - val_fn: 100.0000 - val_accuracy: 0.5000 - val_precision: 0.5000 - val_recall: 0.5000 - val_auc: 0.5000\n"
          ]
        }
      ],
      "source": [
        "history = model.fit(\n",
        "  training_set,\n",
        "  validation_data=test_set,\n",
        "  epochs=epochs,\n",
        "  steps_per_epoch=len(training_set),\n",
        "  validation_steps=len(test_set)\n",
        ")"
      ]
    },
    {
      "cell_type": "code",
      "execution_count": 21,
      "metadata": {
        "colab": {
          "base_uri": "https://localhost:8080/"
        },
        "id": "ffEPYx4Fdb1H",
        "outputId": "944fa28d-9467-4297-e86b-a29206feb47a"
      },
      "outputs": [
        {
          "output_type": "stream",
          "name": "stdout",
          "text": [
            "\n",
            "Keras CNN - accuracy: 0.5 \n",
            "\n"
          ]
        }
      ],
      "source": [
        "# Evaluate model\n",
        "score = model.evaluate(test_set,verbose=0)\n",
        "print('\\nKeras CNN - accuracy:', score[5], '\\n')"
      ]
    },
    {
      "cell_type": "code",
      "execution_count": 22,
      "metadata": {
        "id": "L1WWJtQb6k9a"
      },
      "outputs": [],
      "source": [
        "model.save(\"alexnet.h5\")"
      ]
    },
    {
      "cell_type": "code",
      "execution_count": 23,
      "metadata": {
        "colab": {
          "base_uri": "https://localhost:8080/"
        },
        "id": "uF_NCmvmtaO3",
        "outputId": "917d5d20-04ae-44c6-f6cd-c89112f52978"
      },
      "outputs": [
        {
          "output_type": "execute_result",
          "data": {
            "text/plain": [
              "[0.693217933177948, 100.0, 100.0, 100.0, 100.0, 0.5, 0.5, 0.5, 0.5]"
            ]
          },
          "metadata": {},
          "execution_count": 23
        }
      ],
      "source": [
        "score"
      ]
    },
    {
      "cell_type": "code",
      "execution_count": 24,
      "metadata": {
        "colab": {
          "base_uri": "https://localhost:8080/",
          "height": 466
        },
        "id": "qxTYvf5zingF",
        "outputId": "89d78913-fa69-4c32-b03f-a4328946f752"
      },
      "outputs": [
        {
          "output_type": "display_data",
          "data": {
            "text/plain": [
              "<Figure size 640x480 with 1 Axes>"
            ],
            "image/png": "[encoded data removed]"
          },
          "metadata": {}
        },
        {
          "output_type": "display_data",
          "data": {
            "text/plain": [
              "<Figure size 640x480 with 0 Axes>"
            ]
          },
          "metadata": {}
        }
      ],
      "source": [
        "# plot the loss\n",
        "plt.plot(history.history['loss'], label='Training loss', linewidth=3)\n",
        "plt.plot(history.history['val_loss'], label='Validation loss', linewidth=3)\n",
        "plt.xlabel('Epoch'); plt.ylabel('Loss');\n",
        "plt.legend()\n",
        "plt.show()\n",
        "plt.savefig('LossVal_loss')"
      ]
    },
    {
      "cell_type": "code",
      "execution_count": 26,
      "metadata": {
        "colab": {
          "base_uri": "https://localhost:8080/",
          "height": 466
        },
        "id": "rC8g-Wg7ip2N",
        "outputId": "b2b6a25b-582f-4bcf-83ad-a928cbd5c78f"
      },
      "outputs": [
        {
          "output_type": "display_data",
          "data": {
            "text/plain": [
              "<Figure size 640x480 with 1 Axes>"
            ],
            "image/png": "[encoded data removed]"
          },
          "metadata": {}
        },
        {
          "output_type": "display_data",
          "data": {
            "text/plain": [
              "<Figure size 640x480 with 0 Axes>"
            ]
          },
          "metadata": {}
        }
      ],
      "source": [
        "# plot the accuracy\n",
        "plt.plot(history.history['accuracy'], label='Training accuracy', linewidth=3)\n",
        "plt.plot(history.history['val_accuracy'], label='Validation accuracy', linewidth=3)\n",
        "plt.xlabel('Epoch'); plt.ylabel('Accuracy');\n",
        "plt.legend()\n",
        "plt.show()\n",
        "plt.savefig('AccVal_acc')"
      ]
    },
    {
      "cell_type": "code",
      "execution_count": 27,
      "metadata": {
        "colab": {
          "base_uri": "https://localhost:8080/"
        },
        "id": "-Srh4R5QityU",
        "outputId": "3ae62ab1-69c2-49ae-95ff-724eaa1d2880"
      },
      "outputs": [
        {
          "output_type": "stream",
          "name": "stdout",
          "text": [
            "25/25 [==============================] - 1s 26ms/step\n"
          ]
        }
      ],
      "source": [
        "Y_pred=model.predict(test_set)\n",
        "y_pred=np.argmax(Y_pred,axis=1)"
      ]
    },
    {
      "cell_type": "code",
      "execution_count": 28,
      "metadata": {
        "colab": {
          "base_uri": "https://localhost:8080/",
          "height": 472
        },
        "id": "zZ9W_rfgixta",
        "outputId": "047c9313-9c9a-4fdb-a7f2-76f0ccf9fa45"
      },
      "outputs": [
        {
          "output_type": "display_data",
          "data": {
            "text/plain": [
              "<Figure size 640x480 with 2 Axes>"
            ],
            "image/png": "[encoded data removed]"
          },
          "metadata": {}
        }
      ],
      "source": [
        "cm=confusion_matrix(test_set.classes,y_pred)\n",
        "f = sns.heatmap(cm, annot=True, fmt='.2f',cmap='jet')\n",
        "f.set_xlabel('Predicted label');f.set_ylabel('True label');\n",
        "f.set_title('Confusion Matrix');"
      ]
    },
    {
      "cell_type": "code",
      "execution_count": 29,
      "metadata": {
        "id": "O9sRTtsgc4Oi"
      },
      "outputs": [],
      "source": [
        "# Extracting Intermediate Layers Output"
      ]
    },
    {
      "cell_type": "code",
      "execution_count": 30,
      "metadata": {
        "id": "o9URIL0mc4RJ"
      },
      "outputs": [],
      "source": [
        "from keras.models import Model"
      ]
    },
    {
      "cell_type": "code",
      "execution_count": 31,
      "metadata": {
        "colab": {
          "base_uri": "https://localhost:8080/"
        },
        "id": "4y4u3bhtc4Ty",
        "outputId": "850a368a-55f3-45a0-9f63-c9016ef9e2d6"
      },
      "outputs": [
        {
          "output_type": "stream",
          "name": "stdout",
          "text": [
            "Model: \"alex_net_4\"\n",
            "_________________________________________________________________\n",
            " Layer (type)                Output Shape              Param #   \n",
            "=================================================================\n",
            " conv2d_1 (Conv2D)           (None, 30, 30, 96)        34944     \n",
            "                                                                 \n",
            " max_pooling2d (MaxPooling2  (None, 14, 14, 96)        0         \n",
            " D)                                                              \n",
            "                                                                 \n",
            " conv2d_2 (Conv2D)           (None, 14, 14, 256)       614656    \n",
            "                                                                 \n",
            " max_pooling2d_1 (MaxPoolin  (None, 6, 6, 256)         0         \n",
            " g2D)                                                            \n",
            "                                                                 \n",
            " conv2d_3 (Conv2D)           (None, 6, 6, 384)         885120    \n",
            "                                                                 \n",
            " conv2d_4 (Conv2D)           (None, 6, 6, 384)         1327488   \n",
            "                                                                 \n",
            " conv2d_5 (Conv2D)           (None, 6, 6, 256)         884992    \n",
            "                                                                 \n",
            " max_pooling2d_2 (MaxPoolin  (None, 2, 2, 256)         0         \n",
            " g2D)                                                            \n",
            "                                                                 \n",
            " flatten (Flatten)           (None, 1024)              0         \n",
            "                                                                 \n",
            " dense (Dense)               (None, 4096)              4198400   \n",
            "                                                                 \n",
            " dense_1 (Dense)             (None, 4096)              16781312  \n",
            "                                                                 \n",
            " dense_2 (Dense)             (None, 1000)              4097000   \n",
            "                                                                 \n",
            " dense_3 (Dense)             (None, 2)                 2002      \n",
            "                                                                 \n",
            "=================================================================\n",
            "Total params: 28825914 (109.96 MB)\n",
            "Trainable params: 28825914 (109.96 MB)\n",
            "Non-trainable params: 0 (0.00 Byte)\n",
            "_________________________________________________________________\n"
          ]
        }
      ],
      "source": [
        "model.summary()"
      ]
    }
  ],
  "metadata": {
    "accelerator": "GPU",
    "colab": {
      "provenance": []
    },
    "gpuClass": "standard",
    "kernelspec": {
      "display_name": "Python 3",
      "name": "python3"
    },
    "language_info": {
      "name": "python"
    }
  },
  "nbformat": 4,
  "nbformat_minor": 0
}